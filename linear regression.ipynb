{
 "cells": [
  {
   "cell_type": "code",
   "execution_count": 1,
   "metadata": {},
   "outputs": [],
   "source": [
    "import tensorflow as tf"
   ]
  },
  {
   "cell_type": "code",
   "execution_count": 9,
   "metadata": {},
   "outputs": [
    {
     "name": "stdout",
     "output_type": "stream",
     "text": [
      "[array([-0.9999969], dtype=float32), array([0.9999908], dtype=float32)]\n"
     ]
    }
   ],
   "source": [
    "#Model parameters\n",
    "W = tf.Variable([0.3], tf.float32)\n",
    "B = tf.Variable([-0.3], tf.float32)\n",
    "\n",
    "#Inputs and Outputs\n",
    "X = tf.placeholder(tf.float32)\n",
    "\n",
    "linear_model = W * X + B\n",
    "\n",
    "Y = tf.placeholder(tf.float32)\n",
    "\n",
    "#Loss\n",
    "squared_delta = tf.square(linear_model - Y)\n",
    "loss = tf.reduce_sum(squared_delta)\n",
    "\n",
    "#Optimization of loss\n",
    "optimizer = tf.train.GradientDescentOptimizer(0.01)\n",
    "train = optimizer.minimize(loss)\n",
    "\n",
    "init = tf.global_variables_initializer()\n",
    "\n",
    "sess = tf.Session()\n",
    "sess.run(init)\n",
    "\n",
    "\n",
    "for i in range(1000):\n",
    "    sess.run(train,{X:[1,2,3,4], Y:[0,-1,-2,-3]})\n",
    "    \n",
    "print(sess.run([W,B]))\n",
    "#print(sess.run(loss,{X:[1,2,3,4], Y:[0,-1,-2,-3]}))"
   ]
  },
  {
   "cell_type": "code",
   "execution_count": null,
   "metadata": {},
   "outputs": [],
   "source": []
  }
 ],
 "metadata": {
  "kernelspec": {
   "display_name": "Python 3",
   "language": "python",
   "name": "python3"
  },
  "language_info": {
   "codemirror_mode": {
    "name": "ipython",
    "version": 3
   },
   "file_extension": ".py",
   "mimetype": "text/x-python",
   "name": "python",
   "nbconvert_exporter": "python",
   "pygments_lexer": "ipython3",
   "version": "3.7.3"
  }
 },
 "nbformat": 4,
 "nbformat_minor": 2
}
